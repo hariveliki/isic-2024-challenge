{
 "cells": [
  {
   "cell_type": "code",
   "execution_count": 1,
   "metadata": {},
   "outputs": [],
   "source": [
    "import os\n",
    "import sys\n",
    "\n",
    "import pandas as pd\n",
    "import numpy as np\n",
    "import matplotlib.pyplot as plt\n",
    "import seaborn as sns\n",
    "import h5py\n",
    "import torch\n",
    "import torch.nn as nn\n",
    "import torchvision\n",
    "from torchvision.models import resnet50, ResNet50_Weights\n",
    "from torch.utils.data import DataLoader\n",
    "from sklearn.model_selection import train_test_split\n",
    "\n",
    "\n",
    "sys.path.append(os.path.abspath(os.path.join(os.getcwd(), '..')))\n",
    "from custom_dataset import CustomDataset\n",
    "import utils"
   ]
  },
  {
   "cell_type": "markdown",
   "metadata": {},
   "source": [
    "# Create subset"
   ]
  },
  {
   "cell_type": "code",
   "execution_count": 3,
   "metadata": {},
   "outputs": [
    {
     "name": "stderr",
     "output_type": "stream",
     "text": [
      "/Users/hariveliki/Dev/kaggle/competitions/isic-2024-challenge/notebooks/utils.py:29: DtypeWarning: Columns (51,52) have mixed types. Specify dtype option on import or set low_memory=False.\n",
      "  df_meta = pd.read_csv(meta_path)\n"
     ]
    }
   ],
   "source": [
    "n_1 = 393\n",
    "n_0 = 1000\n",
    "n_samples = n_1 + n_0\n",
    "utils.sample_hdf5_meta(\n",
    "    out_data_file=f\"../train-hdf5/train-image-sample-{n_samples}.hdf5\",\n",
    "    out_meta_file=f\"../meta/train-metadata-sample-{n_samples}.csv\",\n",
    "    n_sample_1=n_1,\n",
    "    n_sample_0=n_0,\n",
    ")"
   ]
  },
  {
   "cell_type": "markdown",
   "metadata": {},
   "source": [
    "# Model definition"
   ]
  },
  {
   "cell_type": "code",
   "execution_count": 4,
   "metadata": {},
   "outputs": [],
   "source": [
    "weights = ResNet50_Weights.IMAGENET1K_V1\n",
    "model = resnet50(weights=weights)\n",
    "transform = weights.transforms()\n",
    "model.fc = nn.Sequential(\n",
    "    nn.Linear(model.fc.in_features, 1),\n",
    "    nn.Sigmoid()\n",
    ")\n",
    "criterion = nn.BCELoss()\n",
    "optimizer = torch.optim.Adam(model.parameters(), lr=0.0001)"
   ]
  },
  {
   "cell_type": "code",
   "execution_count": 5,
   "metadata": {},
   "outputs": [
    {
     "name": "stdout",
     "output_type": "stream",
     "text": [
      "Len keys:  1393\n",
      "Transformation:  ImageClassification(\n",
      "    crop_size=[224]\n",
      "    resize_size=[256]\n",
      "    mean=[0.485, 0.456, 0.406]\n",
      "    std=[0.229, 0.224, 0.225]\n",
      "    interpolation=InterpolationMode.BILINEAR\n",
      ")\n"
     ]
    }
   ],
   "source": [
    "dataset = CustomDataset(\n",
    "    hdf5_path=f\"../train-hdf5/train-image-sample-{n_samples}.hdf5\",\n",
    "    csv_meta_path=f\"../meta/train-metadata-sample-{n_samples}.csv\",\n",
    "    transform=transform\n",
    ")\n",
    "train, eval = train_test_split(dataset, test_size=0.2)\n",
    "trainloader = DataLoader(train, batch_size=32, shuffle=True)\n",
    "evalloader = DataLoader(eval, batch_size=1, shuffle=False)"
   ]
  },
  {
   "cell_type": "markdown",
   "metadata": {},
   "source": [
    "# Training"
   ]
  },
  {
   "cell_type": "code",
   "execution_count": 6,
   "metadata": {},
   "outputs": [
    {
     "name": "stdout",
     "output_type": "stream",
     "text": [
      "Device: mps\n",
      "Epoch: 0, Loss: 0.4423097959586552\n"
     ]
    }
   ],
   "source": [
    "device = torch.device(\"mps\" if torch.backends.mps.is_available() else \"cpu\")\n",
    "print(f\"Device: {device}\")\n",
    "model.to(device)\n",
    "loss_plot = []\n",
    "for epoch in range(1):\n",
    "    train_loss = 0\n",
    "    for i, (x, y, ids) in enumerate(trainloader):\n",
    "        x = x.to(device)\n",
    "        y = y.to(device)\n",
    "        optimizer.zero_grad()\n",
    "        yhat = model(x)\n",
    "        loss = criterion(yhat.view(-1), y.float())\n",
    "        loss.backward()\n",
    "        optimizer.step()\n",
    "        train_loss += loss.item()\n",
    "    train_loss /= len(trainloader)\n",
    "    loss_plot.append(train_loss)\n",
    "    print(f\"Epoch: {epoch}, Loss: {train_loss}\")"
   ]
  },
  {
   "cell_type": "code",
   "execution_count": 7,
   "metadata": {},
   "outputs": [
    {
     "data": {
      "image/png": "[encoded data removed]",
      "text/plain": [
       "<Figure size 640x480 with 1 Axes>"
      ]
     },
     "metadata": {},
     "output_type": "display_data"
    }
   ],
   "source": [
    "plt.plot(loss_plot)\n",
    "plt.show()"
   ]
  },
  {
   "cell_type": "markdown",
   "metadata": {},
   "source": [
    "# Eval with pAUC"
   ]
  },
  {
   "cell_type": "code",
   "execution_count": 8,
   "metadata": {},
   "outputs": [
    {
     "name": "stdout",
     "output_type": "stream",
     "text": [
      "tensor([[0.9621]]) tensor([1]) ('ISIC_0848536',)\n",
      "0.9621008038520813 1 ISIC_0848536\n"
     ]
    }
   ],
   "source": [
    "model.to(\"cpu\")\n",
    "model.eval()\n",
    "correct = 0\n",
    "total = 0\n",
    "res = []\n",
    "with torch.no_grad():\n",
    "    for i, (x, y, ids) in enumerate(evalloader):\n",
    "        yhat = model(x)\n",
    "        if i == 0:\n",
    "            print(yhat, y, ids)\n",
    "            print(yhat.item(), y.item(), ids[0])\n",
    "        res.append([yhat.item(), y.item(), ids[0]])"
   ]
  },
  {
   "cell_type": "code",
   "execution_count": 9,
   "metadata": {},
   "outputs": [],
   "source": [
    "submission = pd.DataFrame(res, columns=[\"yhat\", \"ytrue\", \"isic_id\"]).drop(\"ytrue\", axis=1)\n",
    "solution = pd.DataFrame(res, columns=[\"yhat\", \"ytrue\", \"isic_id\"]).drop(\"yhat\", axis=1)"
   ]
  },
  {
   "cell_type": "code",
   "execution_count": 10,
   "metadata": {},
   "outputs": [
    {
     "data": {
      "text/plain": [
       "0.13111916264090173"
      ]
     },
     "execution_count": 10,
     "metadata": {},
     "output_type": "execute_result"
    }
   ],
   "source": [
    "utils.score(solution=solution, submission=submission, row_id_column_name=\"isic_id\")"
   ]
  },
  {
   "cell_type": "markdown",
   "metadata": {},
   "source": [
    "# Check if ids are consistent"
   ]
  },
  {
   "cell_type": "code",
   "execution_count": 8,
   "metadata": {},
   "outputs": [],
   "source": [
    "# actual = pd.DataFrame(res, columns=[\"yhat\", \"ytrue\", \"isic_id\"]).drop(\"yhat\", axis=1)\n",
    "# expectation = pd.read_csv(\"train-metadata-sample-100.csv\")\n",
    "# expectation = expectation[[\"isic_id\", \"target\"]]\n",
    "# merged = pd.merge(actual, expectation, on=\"isic_id\")\n",
    "# (merged[\"ytrue\"] == merged[\"target\"]).sum() == len(merged)"
   ]
  }
 ],
 "metadata": {
  "kernelspec": {
   "display_name": "digitrec",
   "language": "python",
   "name": "python3"
  },
  "language_info": {
   "codemirror_mode": {
    "name": "ipython",
    "version": 3
   },
   "file_extension": ".py",
   "mimetype": "text/x-python",
   "name": "python",
   "nbconvert_exporter": "python",
   "pygments_lexer": "ipython3",
   "version": "3.10.13"
  }
 },
 "nbformat": 4,
 "nbformat_minor": 2
}
